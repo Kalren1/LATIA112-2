{
  "nbformat": 4,
  "nbformat_minor": 0,
  "metadata": {
    "colab": {
      "provenance": []
    },
    "kernelspec": {
      "name": "python3",
      "display_name": "Python 3"
    },
    "language_info": {
      "name": "python"
    }
  },
  "cells": [
    {
      "cell_type": "markdown",
      "source": [
        "前置作業\n"
      ],
      "metadata": {
        "id": "j79cxE29U70V"
      }
    },
    {
      "cell_type": "code",
      "execution_count": 2,
      "metadata": {
        "colab": {
          "base_uri": "https://localhost:8080/"
        },
        "id": "wDiIKHO9U66E",
        "outputId": "d34ebf7f-1dd6-4628-c78c-f82bc34c4bcc"
      },
      "outputs": [
        {
          "output_type": "stream",
          "name": "stdout",
          "text": [
            "Mounted at /content/gdrive/\n",
            "total 91\n",
            "-rw------- 1 root root 92484 Mar  5 06:18 112_student.csv\n"
          ]
        }
      ],
      "source": [
        "from google.colab import drive\n",
        "drive.mount('/content/gdrive/', force_remount=True)\n",
        "import os\n",
        "os.chdir(\"/content/gdrive/My Drive/latia/week3_030524/\") # 切換目錄\n",
        "!ls -l \"/content/gdrive/My Drive/latia/week3_030524/\" # 列出目錄下的檔案"
      ]
    },
    {
      "cell_type": "code",
      "source": [
        "import pandas as pd\n",
        "\n",
        "csv_file = './112_student.csv'\n",
        "\n",
        "df = pd.read_csv(csv_file) # 讀取csv檔案\n",
        "print(df.head())\n",
        "\n",
        "#查看資料欄位資訊\n",
        "print(df.info())"
      ],
      "metadata": {
        "id": "wOSiTOd6VqHC",
        "colab": {
          "base_uri": "https://localhost:8080/"
        },
        "outputId": "e1f72da9-2bf0-49e8-9585-0235f8753965"
      },
      "execution_count": 3,
      "outputs": [
        {
          "output_type": "stream",
          "name": "stdout",
          "text": [
            "   學年度  學校代碼    學校名稱 日間∕進修別   等級別    總計   男生計   女生計  一年級男  一年級女  ...  五年級男  \\\n",
            "0  112     1  國立政治大學    D 日  D 博士   921   517   404    86    69  ...    63   \n",
            "1  112     1  國立政治大學    D 日  M 碩士  4231  1835  2396   598   809  ...     2   \n",
            "2  112     1  國立政治大學    N 職  M 碩士  1903   938   965   262   304  ...    77   \n",
            "3  112     1  國立政治大學    D 日  B 學士  9763  3928  5835   906  1349  ...     0   \n",
            "4  112     2  國立清華大學    D 日  D 博士  1636  1131   505   206    93  ...   140   \n",
            "\n",
            "   五年級女  六年級男  六年級女  七年級男  七年級女  延修生男  延修生女    縣市名稱   體系別  \n",
            "0    52    68    37    66    50     0     0  30 臺北市  1 一般  \n",
            "1     1     1     0     0     0     0     0  30 臺北市  1 一般  \n",
            "2    57     0     0     0     0     0     0  30 臺北市  1 一般  \n",
            "3     0     0     0     0     0   316   499  30 臺北市  1 一般  \n",
            "4    60   110    50   115    56     0     0  18 新竹市  1 一般  \n",
            "\n",
            "[5 rows x 26 columns]\n",
            "<class 'pandas.core.frame.DataFrame'>\n",
            "RangeIndex: 764 entries, 0 to 763\n",
            "Data columns (total 26 columns):\n",
            " #   Column  Non-Null Count  Dtype \n",
            "---  ------  --------------  ----- \n",
            " 0   學年度     764 non-null    int64 \n",
            " 1   學校代碼    764 non-null    int64 \n",
            " 2   學校名稱    764 non-null    object\n",
            " 3   日間∕進修別  764 non-null    object\n",
            " 4   等級別     764 non-null    object\n",
            " 5   總計      764 non-null    int64 \n",
            " 6   男生計     764 non-null    int64 \n",
            " 7   女生計     764 non-null    int64 \n",
            " 8   一年級男    764 non-null    int64 \n",
            " 9   一年級女    764 non-null    int64 \n",
            " 10  二年級男    764 non-null    int64 \n",
            " 11  二年級女    764 non-null    int64 \n",
            " 12  三年級男    764 non-null    int64 \n",
            " 13  三年級女    764 non-null    int64 \n",
            " 14  四年級男    764 non-null    int64 \n",
            " 15  四年級女    764 non-null    int64 \n",
            " 16  五年級男    764 non-null    int64 \n",
            " 17  五年級女    764 non-null    int64 \n",
            " 18  六年級男    764 non-null    int64 \n",
            " 19  六年級女    764 non-null    int64 \n",
            " 20  七年級男    764 non-null    int64 \n",
            " 21  七年級女    764 non-null    int64 \n",
            " 22  延修生男    764 non-null    int64 \n",
            " 23  延修生女    764 non-null    int64 \n",
            " 24  縣市名稱    764 non-null    object\n",
            " 25  體系別     764 non-null    object\n",
            "dtypes: int64(21), object(5)\n",
            "memory usage: 155.3+ KB\n",
            "None\n"
          ]
        }
      ]
    },
    {
      "cell_type": "markdown",
      "source": [
        "1.共有幾名台師大學生"
      ],
      "metadata": {
        "id": "-W36_VH-HNGL"
      }
    },
    {
      "cell_type": "code",
      "source": [
        "list = []\n",
        "x = 0\n",
        "df1 = df[['學校代碼','學校名稱','總計']]\n",
        "df1_1 = df1[df1['學校代碼'] == 4]\n",
        "print(df1_1)\n",
        "for i in range(len(df1)):\n",
        "  if df1['學校代碼'].get(i) == 4:\n",
        "    list.append(df1['總計'].get(i))\n",
        "for j in list:\n",
        "  x += j\n",
        "print(f\"112大專院校統計中，台師大的學生共有{x}人\")"
      ],
      "metadata": {
        "colab": {
          "base_uri": "https://localhost:8080/"
        },
        "id": "SFQfDrRQVxjq",
        "outputId": "08c470dd-dda4-4807-f615-816a6b5e7e25"
      },
      "execution_count": 4,
      "outputs": [
        {
          "output_type": "stream",
          "name": "stdout",
          "text": [
            "    學校代碼      學校名稱    總計\n",
            "13     4  國立臺灣師範大學  1337\n",
            "14     4  國立臺灣師範大學  4384\n",
            "15     4  國立臺灣師範大學  2272\n",
            "16     4  國立臺灣師範大學  8503\n",
            "112大專院校統計中，台師大的學生共有16496人\n"
          ]
        }
      ]
    },
    {
      "cell_type": "markdown",
      "source": [
        "2.台師大男女比"
      ],
      "metadata": {
        "id": "c8idGrZi5vua"
      }
    },
    {
      "cell_type": "code",
      "source": [
        "list_boy = []\n",
        "list_girl = []\n",
        "boy = 0\n",
        "girl = 0\n",
        "df2 = df[['學校代碼','學校名稱','男生計','女生計']]\n",
        "df2_2 = df2[df2['學校代碼'] == 4]\n",
        "print(df2_2)\n",
        "for i in range(len(df2)):\n",
        "  if df2['學校代碼'].get(i) == 4:\n",
        "    list_boy.append(df2['男生計'].get(i))\n",
        "    list_girl.append(df2['女生計'].get(i))\n",
        "for j in list_boy:\n",
        "  boy += j\n",
        "for k in list_girl:\n",
        "  girl += k\n",
        "print(f\"112大專院校統計中，台師大的男生有{boy}個，女生有{girl}個\")"
      ],
      "metadata": {
        "colab": {
          "base_uri": "https://localhost:8080/"
        },
        "id": "DUm2hU2H51LA",
        "outputId": "8f887cb3-5c75-41e4-a689-e2c1b63641fa"
      },
      "execution_count": 12,
      "outputs": [
        {
          "output_type": "stream",
          "name": "stdout",
          "text": [
            "    學校代碼      學校名稱   男生計   女生計\n",
            "13     4  國立臺灣師範大學   630   707\n",
            "14     4  國立臺灣師範大學  1878  2506\n",
            "15     4  國立臺灣師範大學   680  1592\n",
            "16     4  國立臺灣師範大學  3846  4657\n",
            "112大專院校統計中，台師大的男生有7034個，女生有9462個\n"
          ]
        }
      ]
    },
    {
      "cell_type": "markdown",
      "source": [
        "3.台北市有幾所大學"
      ],
      "metadata": {
        "id": "i7Uk9qkYBNAs"
      }
    },
    {
      "cell_type": "code",
      "source": [
        "df3 = df[['學校名稱','縣市名稱']]\n",
        "df3_1 = df3[df3['縣市名稱'] == '30 臺北市']\n",
        "df3_2 = df3_1.drop_duplicates('學校名稱')\n",
        "print(df3_2)\n",
        "count = 0\n",
        "for i in range(len(df3_2)):\n",
        "  count += 1\n",
        "print(f\"112大專院校統計中，臺北市共有{count}所學校\")"
      ],
      "metadata": {
        "colab": {
          "base_uri": "https://localhost:8080/"
        },
        "id": "XuPPFQooBTDc",
        "outputId": "5aab4a6b-dae2-4d3b-ff64-41838b8e04e3"
      },
      "execution_count": 31,
      "outputs": [
        {
          "output_type": "stream",
          "name": "stdout",
          "text": [
            "           學校名稱    縣市名稱\n",
            "0        國立政治大學  30 臺北市\n",
            "9        國立臺灣大學  30 臺北市\n",
            "13     國立臺灣師範大學  30 臺北市\n",
            "78     國立臺灣科技大學  30 臺北市\n",
            "94     國立臺北科技大學  30 臺北市\n",
            "101    國立臺北藝術大學  30 臺北市\n",
            "147    國立臺北教育大學  30 臺北市\n",
            "173  國立臺北護理健康大學  30 臺北市\n",
            "206    國立臺北商業大學  30 臺北市\n",
            "228    國立臺灣戲曲學院  30 臺北市\n",
            "246        東吳大學  30 臺北市\n",
            "260      中國文化大學  30 臺北市\n",
            "305        世新大學  30 臺北市\n",
            "310        銘傳大學  30 臺北市\n",
            "314        實踐大學  30 臺北市\n",
            "339        大同大學  30 臺北市\n",
            "377      臺北醫學大學  30 臺北市\n",
            "490      中國科技大學  30 臺北市\n",
            "556    德明財經科技大學  30 臺北市\n",
            "574      中華科技大學  30 臺北市\n",
            "621    臺北城市科技大學  30 臺北市\n",
            "666        康寧大學  30 臺北市\n",
            "740  馬偕醫護管理專科學校  30 臺北市\n",
            "760      臺北市立大學  30 臺北市\n",
            "112大專院校統計中，臺北市共有24所學校\n"
          ]
        }
      ]
    }
  ]
}